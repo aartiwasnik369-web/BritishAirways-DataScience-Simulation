{
 "cells": [
  {
   "cell_type": "code",
   "execution_count": 9,
   "id": "f7092fe1-8041-4094-8f98-e79a45b186cc",
   "metadata": {},
   "outputs": [
    {
     "name": "stdout",
     "output_type": "stream",
     "text": [
      "Shape of dataset: (50000, 14)\n",
      "\n",
      "Columns: Index(['num_passengers', 'sales_channel', 'trip_type', 'purchase_lead',\n",
      "       'length_of_stay', 'flight_hour', 'flight_day', 'route',\n",
      "       'booking_origin', 'wants_extra_baggage', 'wants_preferred_seat',\n",
      "       'wants_in_flight_meals', 'flight_duration', 'booking_complete'],\n",
      "      dtype='object')\n",
      "\n",
      "First 5 rows:\n",
      "    num_passengers sales_channel  trip_type  purchase_lead  length_of_stay  \\\n",
      "0               2      Internet  RoundTrip            262              19   \n",
      "1               1      Internet  RoundTrip            112              20   \n",
      "2               2      Internet  RoundTrip            243              22   \n",
      "3               1      Internet  RoundTrip             96              31   \n",
      "4               2      Internet  RoundTrip             68              22   \n",
      "\n",
      "   flight_hour flight_day   route booking_origin  wants_extra_baggage  \\\n",
      "0            7        Sat  AKLDEL    New Zealand                    1   \n",
      "1            3        Sat  AKLDEL    New Zealand                    0   \n",
      "2           17        Wed  AKLDEL          India                    1   \n",
      "3            4        Sat  AKLDEL    New Zealand                    0   \n",
      "4           15        Wed  AKLDEL          India                    1   \n",
      "\n",
      "   wants_preferred_seat  wants_in_flight_meals  flight_duration  \\\n",
      "0                     0                      0             5.52   \n",
      "1                     0                      0             5.52   \n",
      "2                     1                      0             5.52   \n",
      "3                     0                      1             5.52   \n",
      "4                     0                      1             5.52   \n",
      "\n",
      "   booking_complete  \n",
      "0                 0  \n",
      "1                 0  \n",
      "2                 0  \n",
      "3                 0  \n",
      "4                 0  \n",
      "\n",
      "Missing values:\n",
      " num_passengers           0\n",
      "sales_channel            0\n",
      "trip_type                0\n",
      "purchase_lead            0\n",
      "length_of_stay           0\n",
      "flight_hour              0\n",
      "flight_day               0\n",
      "route                    0\n",
      "booking_origin           0\n",
      "wants_extra_baggage      0\n",
      "wants_preferred_seat     0\n",
      "wants_in_flight_meals    0\n",
      "flight_duration          0\n",
      "booking_complete         0\n",
      "dtype: int64\n",
      "\n",
      "After encoding:\n",
      "    num_passengers  sales_channel  trip_type  purchase_lead  length_of_stay  \\\n",
      "0               2              0          2            262              19   \n",
      "1               1              0          2            112              20   \n",
      "2               2              0          2            243              22   \n",
      "3               1              0          2             96              31   \n",
      "4               2              0          2             68              22   \n",
      "\n",
      "   flight_hour  flight_day  route  booking_origin  wants_extra_baggage  \\\n",
      "0            7           2      0              61                    1   \n",
      "1            3           2      0              61                    0   \n",
      "2           17           6      0              36                    1   \n",
      "3            4           2      0              61                    0   \n",
      "4           15           6      0              36                    1   \n",
      "\n",
      "   wants_preferred_seat  wants_in_flight_meals  flight_duration  \\\n",
      "0                     0                      0             5.52   \n",
      "1                     0                      0             5.52   \n",
      "2                     1                      0             5.52   \n",
      "3                     0                      1             5.52   \n",
      "4                     0                      1             5.52   \n",
      "\n",
      "   booking_complete  \n",
      "0                 0  \n",
      "1                 0  \n",
      "2                 0  \n",
      "3                 0  \n",
      "4                 0  \n",
      "\n",
      "Accuracy: 0.8562\n",
      "\n",
      "Classification Report:\n",
      "               precision    recall  f1-score   support\n",
      "\n",
      "           0       0.86      0.99      0.92      8520\n",
      "           1       0.57      0.11      0.19      1480\n",
      "\n",
      "    accuracy                           0.86     10000\n",
      "   macro avg       0.72      0.55      0.55     10000\n",
      "weighted avg       0.82      0.86      0.81     10000\n",
      "\n",
      "\n",
      "Confusion Matrix:\n",
      " [[8395  125]\n",
      " [1313  167]]\n"
     ]
    },
    {
     "data": {
      "image/png": "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",
      "text/plain": [
       "<Figure size 600x400 with 2 Axes>"
      ]
     },
     "metadata": {},
     "output_type": "display_data"
    }
   ],
   "source": [
    ,
    "import pandas as pd\n",
    "import matplotlib.pyplot as plt\n",
    "import seaborn as sns\n",
    "\n",
    "from sklearn.model_selection import train_test_split\n",
    "from sklearn.preprocessing import LabelEncoder\n",
    "from sklearn.ensemble import RandomForestClassifier\n",
    "from sklearn.metrics import accuracy_score, classification_report, confusion_matrix\n",
    "\n",
    
    "data = pd.read_csv(r\"C:\\Users\\HP\\Downloads\\customer_booking.csv\", encoding=\"latin1\")\n",
    "\n",
    "# Step 3: Explore dataset\n",
    "print(\"Shape of dataset:\", data.shape)\n",
    "print(\"\\nColumns:\", data.columns)\n",
    "print(\"\\nFirst 5 rows:\\n\", data.head())\n",
    "print(\"\\nMissing values:\\n\", data.isnull().sum())\n",
    "\n",
    
    
    "le = LabelEncoder()\n",
    "for col in data.select_dtypes(include=['object']).columns:\n",
    "    data[col] = le.fit_transform(data[col].astype(str))\n",
    "\n",
    "print(\"\\nAfter encoding:\\n\", data.head())\n",
    "\n",
    
    "\n",
    "X = data.drop(\"booking_complete\", axis=1)\n",
    "y = data[\"booking_complete\"]\n",
    "\n",
    
    "X_train, X_test, y_train, y_test = train_test_split(X, y, test_size=0.2, random_state=42)\n",
    "\n",
    
    "model = RandomForestClassifier(random_state=42)\n",
    "model.fit(X_train, y_train)\n",
    "\n",
    
    "y_pred = model.predict(X_test)\n",
    "\n",
    
    "print(\"\\nAccuracy:\", accuracy_score(y_test, y_pred))\n",
    "print(\"\\nClassification Report:\\n\", classification_report(y_test, y_pred))\n",
    "print(\"\\nConfusion Matrix:\\n\", confusion_matrix(y_test, y_pred))\n",
    "\n",
    
    "plt.figure(figsize=(6,4))\n",
    "sns.heatmap(confusion_matrix(y_test, y_pred), annot=True, fmt='d', cmap=\"Blues\")\n",
    "plt.title(\"Confusion Matrix\")\n",
    "plt.xlabel(\"Predicted\")\n",
    "plt.ylabel(\"Actual\")\n",
    "plt.show()\n"
   ]
  },
  {
   "cell_type": "code",
   "execution_count": 11,
   "id": "552ce905-086c-485e-917a-ccab458fd4bc",
   "metadata": {},
   "outputs": [
    {
     "data": {
      "text/html": [
       "<div>\n",
       "<style scoped>\n",
       "    .dataframe tbody tr th:only-of-type {\n",
       "        vertical-align: middle;\n",
       "    }\n",
       "\n",
       "    .dataframe tbody tr th {\n",
       "        vertical-align: top;\n",
       "    }\n",
       "\n",
       "    .dataframe thead th {\n",
       "        text-align: right;\n",
       "    }\n",
       "</style>\n",
       "<table border=\"1\" class=\"dataframe\">\n",
       "  <thead>\n",
       "    <tr style=\"text-align: right;\">\n",
       "      <th></th>\n",
       "      <th>num_passengers</th>\n",
       "      <th>sales_channel</th>\n",
       "      <th>trip_type</th>\n",
       "      <th>purchase_lead</th>\n",
       "      <th>length_of_stay</th>\n",
       "      <th>flight_hour</th>\n",
       "      <th>flight_day</th>\n",
       "      <th>route</th>\n",
       "      <th>booking_origin</th>\n",
       "      <th>wants_extra_baggage</th>\n",
       "      <th>wants_preferred_seat</th>\n",
       "      <th>wants_in_flight_meals</th>\n",
       "      <th>flight_duration</th>\n",
       "      <th>booking_complete</th>\n",
       "    </tr>\n",
       "  </thead>\n",
       "  <tbody>\n",
       "    <tr>\n",
       "      <th>0</th>\n",
       "      <td>2</td>\n",
       "      <td>Internet</td>\n",
       "      <td>RoundTrip</td>\n",
       "      <td>262</td>\n",
       "      <td>19</td>\n",
       "      <td>7</td>\n",
       "      <td>Sat</td>\n",
       "      <td>AKLDEL</td>\n",
       "      <td>New Zealand</td>\n",
       "      <td>1</td>\n",
       "      <td>0</td>\n",
       "      <td>0</td>\n",
       "      <td>5.52</td>\n",
       "      <td>0</td>\n",
       "    </tr>\n",
       "    <tr>\n",
       "      <th>1</th>\n",
       "      <td>1</td>\n",
       "      <td>Internet</td>\n",
       "      <td>RoundTrip</td>\n",
       "      <td>112</td>\n",
       "      <td>20</td>\n",
       "      <td>3</td>\n",
       "      <td>Sat</td>\n",
       "      <td>AKLDEL</td>\n",
       "      <td>New Zealand</td>\n",
       "      <td>0</td>\n",
       "      <td>0</td>\n",
       "      <td>0</td>\n",
       "      <td>5.52</td>\n",
       "      <td>0</td>\n",
       "    </tr>\n",
       "    <tr>\n",
       "      <th>2</th>\n",
       "      <td>2</td>\n",
       "      <td>Internet</td>\n",
       "      <td>RoundTrip</td>\n",
       "      <td>243</td>\n",
       "      <td>22</td>\n",
       "      <td>17</td>\n",
       "      <td>Wed</td>\n",
       "      <td>AKLDEL</td>\n",
       "      <td>India</td>\n",
       "      <td>1</td>\n",
       "      <td>1</td>\n",
       "      <td>0</td>\n",
       "      <td>5.52</td>\n",
       "      <td>0</td>\n",
       "    </tr>\n",
       "    <tr>\n",
       "      <th>3</th>\n",
       "      <td>1</td>\n",
       "      <td>Internet</td>\n",
       "      <td>RoundTrip</td>\n",
       "      <td>96</td>\n",
       "      <td>31</td>\n",
       "      <td>4</td>\n",
       "      <td>Sat</td>\n",
       "      <td>AKLDEL</td>\n",
       "      <td>New Zealand</td>\n",
       "      <td>0</td>\n",
       "      <td>0</td>\n",
       "      <td>1</td>\n",
       "      <td>5.52</td>\n",
       "      <td>0</td>\n",
       "    </tr>\n",
       "    <tr>\n",
       "      <th>4</th>\n",
       "      <td>2</td>\n",
       "      <td>Internet</td>\n",
       "      <td>RoundTrip</td>\n",
       "      <td>68</td>\n",
       "      <td>22</td>\n",
       "      <td>15</td>\n",
       "      <td>Wed</td>\n",
       "      <td>AKLDEL</td>\n",
       "      <td>India</td>\n",
       "      <td>1</td>\n",
       "      <td>0</td>\n",
       "      <td>1</td>\n",
       "      <td>5.52</td>\n",
       "      <td>0</td>\n",
       "    </tr>\n",
       "  </tbody>\n",
       "</table>\n",
       "</div>"
      ],
      "text/plain": [
       "   num_passengers sales_channel  trip_type  purchase_lead  length_of_stay  \\\n",
       "0               2      Internet  RoundTrip            262              19   \n",
       "1               1      Internet  RoundTrip            112              20   \n",
       "2               2      Internet  RoundTrip            243              22   \n",
       "3               1      Internet  RoundTrip             96              31   \n",
       "4               2      Internet  RoundTrip             68              22   \n",
       "\n",
       "   flight_hour flight_day   route booking_origin  wants_extra_baggage  \\\n",
       "0            7        Sat  AKLDEL    New Zealand                    1   \n",
       "1            3        Sat  AKLDEL    New Zealand                    0   \n",
       "2           17        Wed  AKLDEL          India                    1   \n",
       "3            4        Sat  AKLDEL    New Zealand                    0   \n",
       "4           15        Wed  AKLDEL          India                    1   \n",
       "\n",
       "   wants_preferred_seat  wants_in_flight_meals  flight_duration  \\\n",
       "0                     0                      0             5.52   \n",
       "1                     0                      0             5.52   \n",
       "2                     1                      0             5.52   \n",
       "3                     0                      1             5.52   \n",
       "4                     0                      1             5.52   \n",
       "\n",
       "   booking_complete  \n",
       "0                 0  \n",
       "1                 0  \n",
       "2                 0  \n",
       "3                 0  \n",
       "4                 0  "
      ]
     },
     "execution_count": 11,
     "metadata": {},
     "output_type": "execute_result"
    }
   ],
   "source": [
    
    "df = pd.read_csv(r\"C:\\Users\\HP\\Downloads\\customer_booking.csv\", encoding=\"latin1\")\n",
    "\n",
    
    "df.head()\n"
   ]
  },
  {
   "cell_type": "code",
   "execution_count": 12,
   "id": "38a6c3bf-fd9f-4d89-ac5f-e4ba513eb9d1",
   "metadata": {},
   "outputs": [
    {
     "name": "stdout",
     "output_type": "stream",
     "text": [
      "<class 'pandas.core.frame.DataFrame'>\n",
      "RangeIndex: 50000 entries, 0 to 49999\n",
      "Data columns (total 14 columns):\n",
      " #   Column                 Non-Null Count  Dtype  \n",
      "---  ------                 --------------  -----  \n",
      " 0   num_passengers         50000 non-null  int64  \n",
      " 1   sales_channel          50000 non-null  object \n",
      " 2   trip_type              50000 non-null  object \n",
      " 3   purchase_lead          50000 non-null  int64  \n",
      " 4   length_of_stay         50000 non-null  int64  \n",
      " 5   flight_hour            50000 non-null  int64  \n",
      " 6   flight_day             50000 non-null  object \n",
      " 7   route                  50000 non-null  object \n",
      " 8   booking_origin         50000 non-null  object \n",
      " 9   wants_extra_baggage    50000 non-null  int64  \n",
      " 10  wants_preferred_seat   50000 non-null  int64  \n",
      " 11  wants_in_flight_meals  50000 non-null  int64  \n",
      " 12  flight_duration        50000 non-null  float64\n",
      " 13  booking_complete       50000 non-null  int64  \n",
      "dtypes: float64(1), int64(8), object(5)\n",
      "memory usage: 5.3+ MB\n",
      "None\n",
      "       num_passengers  purchase_lead  length_of_stay  flight_hour  \\\n",
      "count    50000.000000   50000.000000     50000.00000  50000.00000   \n",
      "mean         1.591240      84.940480        23.04456      9.06634   \n",
      "std          1.020165      90.451378        33.88767      5.41266   \n",
      "min          1.000000       0.000000         0.00000      0.00000   \n",
      "25%          1.000000      21.000000         5.00000      5.00000   \n",
      "50%          1.000000      51.000000        17.00000      9.00000   \n",
      "75%          2.000000     115.000000        28.00000     13.00000   \n",
      "max          9.000000     867.000000       778.00000     23.00000   \n",
      "\n",
      "       wants_extra_baggage  wants_preferred_seat  wants_in_flight_meals  \\\n",
      "count         50000.000000          50000.000000           50000.000000   \n",
      "mean              0.668780              0.296960               0.427140   \n",
      "std               0.470657              0.456923               0.494668   \n",
      "min               0.000000              0.000000               0.000000   \n",
      "25%               0.000000              0.000000               0.000000   \n",
      "50%               1.000000              0.000000               0.000000   \n",
      "75%               1.000000              1.000000               1.000000   \n",
      "max               1.000000              1.000000               1.000000   \n",
      "\n",
      "       flight_duration  booking_complete  \n",
      "count     50000.000000      50000.000000  \n",
      "mean          7.277561          0.149560  \n",
      "std           1.496863          0.356643  \n",
      "min           4.670000          0.000000  \n",
      "25%           5.620000          0.000000  \n",
      "50%           7.570000          0.000000  \n",
      "75%           8.830000          0.000000  \n",
      "max           9.500000          1.000000  \n",
      "num_passengers           0\n",
      "sales_channel            0\n",
      "trip_type                0\n",
      "purchase_lead            0\n",
      "length_of_stay           0\n",
      "flight_hour              0\n",
      "flight_day               0\n",
      "route                    0\n",
      "booking_origin           0\n",
      "wants_extra_baggage      0\n",
      "wants_preferred_seat     0\n",
      "wants_in_flight_meals    0\n",
      "flight_duration          0\n",
      "booking_complete         0\n",
      "dtype: int64\n",
      "booking_complete\n",
      "0    42522\n",
      "1     7478\n",
      "Name: count, dtype: int64\n"
     ]
    }
   ],
   "source": [
    
    "print(df.info())\n",
    "\n",
   
    "print(df.describe())\n",
    "\n",
    
    "print(df.isnull().sum())\n",
    "\n",
   
    "print(df['booking_complete'].value_counts())\n"
   ]
  },
  {
   "cell_type": "code",
   "execution_count": 13,
   "id": "23f13e6a-21a6-411a-9255-402feba3642f",
   "metadata": {},
   "outputs": [],
   "source": [
    
    "df_encoded = pd.get_dummies(df, drop_first=True)\n",
    "\n",
    "# Features and target\n",
    "X = df_encoded.drop('booking_complete', axis=1)\n",
    "y = df_encoded['booking_complete']\n",
    "\n",
    
    "X_train, X_test, y_train, y_test = train_test_split(X, y, test_size=0.3, random_state=42, stratify=y)\n"
   ]
  },
  {
   "cell_type": "code",
   "execution_count": 14,
   "id": "a0503629-e042-4ea7-92f9-9a4812540201",
   "metadata": {},
   "outputs": [
    {
     "name": "stdout",
     "output_type": "stream",
     "text": [
      "Accuracy: 0.8499333333333333\n",
      "\n",
      "Classification Report:\n",
      "               precision    recall  f1-score   support\n",
      "\n",
      "           0       0.86      0.98      0.92     12757\n",
      "           1       0.49      0.12      0.19      2243\n",
      "\n",
      "    accuracy                           0.85     15000\n",
      "   macro avg       0.68      0.55      0.55     15000\n",
      "weighted avg       0.81      0.85      0.81     15000\n",
      "\n"
     ]
    },
    {
     "data": {
      "image/png": "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",
      "text/plain": [
       "<Figure size 640x480 with 2 Axes>"
      ]
     },
     "metadata": {},
     "output_type": "display_data"
    }
   ],
   "source": [
   
    "model = RandomForestClassifier(n_estimators=100, random_state=42)\n",
    "model.fit(X_train, y_train)\n",
    "\n",
    
    "y_pred = model.predict(X_test)\n",
    "\n",
    
    "print(\"Accuracy:\", accuracy_score(y_test, y_pred))\n",
    "\n",

    "print(\"\\nClassification Report:\\n\", classification_report(y_test, y_pred))\n",
    "\n",
   
    "sns.heatmap(confusion_matrix(y_test, y_pred), annot=True, fmt=\"d\", cmap=\"Blues\")\n",
    "plt.show()\n"
   ]
  },
  {
   "cell_type": "code",
   "execution_count": 15,
   "id": "fbc3280b-9ad4-45d8-a50f-570641c343ee",
   "metadata": {},
   "outputs": [
    {
     "data": {
      "image/png": "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",
      "text/plain": [
       "<Figure size 1200x600 with 1 Axes>"
      ]
     },
     "metadata": {},
     "output_type": "display_data"
    }
   ],
   "source": [
   
    "importances = model.feature_importances_\n",
    "indices = np.argsort(importances)[::-1]\n",
    "\n",
    "plt.figure(figsize=(12,6))\n",
    "plt.title(\"Feature Importance\")\n",
    "sns.barplot(x=importances[indices][:15], y=X.columns[indices][:15])\n",
    "plt.show()\n"
   ]
  },
  {
   "cell_type": "code",
   "execution_count": null,
   "id": "c20d3eb0-3934-45b9-b2ad-76202696bb9f",
   "metadata": {},
   "outputs": [],
   "source": [
   
    "from sklearn.model_selection import cross_val_score\n",
    "from sklearn.model_selection import cross_val_score\n",
    "\n",
    "cv_scores = cross_val_score(model, X, y, cv=5)\n",
    "print(\"Cross-validation scores:\", cv_scores)\n",
    "print(\"Average CV Score:\", np.mean(cv_scores))\n"
   ]
  },
  {
   "cell_type": "code",
   "execution_count": null,
   "id": "a441cbbd-e7e5-49fb-8e45-cd0156dfae38",
   "metadata": {},
   "outputs": [],
   "source": [
    "from pptx import Presentation\n",
    "from pptx.util import Inches, Pt\n",
    "\n",
    
    "prs = Presentation()\n",
    "slide_layout = prs.slide_layouts[5]  # Title only\n",
    "slide = prs.slides.add_slide(slide_layout)\n",
    "\n",
   
    "title = slide.shapes.title\n",
    "title.text = \"Customer Booking Prediction - Summary\"\n",
    "\n",
   
    "textbox = slide.shapes.add_textbox(Inches(1), Inches(2), Inches(8), Inches(4))\n",
    "tf = textbox.text_frame\n",
    "tf.text = \"Model: Random Forest\\n\"\n",
    "tf.text += f\"Accuracy: {accuracy_score(y_test, y_pred):.2f}\\n\"\n",
    "tf.text += f\"Average CV Score: {np.mean(cv_scores):.2f}\\n\"\n",
    "tf.text += \"Top Features Influencing Prediction:\\n\"\n",
    "\n",
   
    "for feature in X.columns[indices][:5]:\n",
    "    p = tf.add_paragraph()\n",
    "    p.text = \"- \" + feature\n",
    "    p.font.size = Pt(14)\n",
    "\n",
   
    "prs.save(\"customer_booking_summary.pptx\")\n",
    "print(\"PowerPoint saved as customer_booking_summary.pptx\")\n"
   ]
  },
  {
   "cell_type": "code",
   "execution_count": null,
   "id": "f0031f50-8a4a-4332-bbc1-ebbd7f91bf5b",
   "metadata": {},
   "outputs": [],
   "source": [
    "from sklearn.metrics import confusion_matrix, ConfusionMatrixDisplay, classification_report\n",
    "\n",
   
    "cm = confusion_matrix(y_test, y_pred)\n",
    "disp = ConfusionMatrixDisplay(confusion_matrix=cm)\n",
    "disp.plot()\n",
    "plt.show()\n",
    "\n",
    
    "print(classification_report(y_test, y_pred))\n"
   ]
  },
  {
   "cell_type": "code",
   "execution_count": null,
   "id": "e4d29f11-09ee-431b-8300-95f8fb9b0454",
   "metadata": {},
   "outputs": [],
   "source": [
    "import pandas as pd\n",
    "\n",
    
    "importances = model.feature_importances_\n",
    "feature_names = X.columns\n",
    "\n",
    "fi_df = pd.DataFrame({\"Feature\": feature_names, \"Importance\": importances})\n",
    "fi_df = fi_df.sort_values(by=\"Importance\", ascending=False)\n",
    "\n",
    
    "plt.figure(figsize=(10,6))\n",
    "plt.barh(fi_df[\"Feature\"], fi_df[\"Importance\"])\n",
    "plt.gca().invert_yaxis()\n",
    "plt.title(\"Feature Importance from Random Forest\")\n",
    "plt.show()\n"
   ]
  },
  {
   "cell_type": "code",
   "execution_count": null,
   "id": "6be852c8-9cbc-46cb-88ea-b9a1386f01d3",
   "metadata": {},
   "outputs": [],
   "source": []
  },
  {
   "cell_type": "code",
   "execution_count": null,
   "id": "dc31d28d-0447-49da-8e6c-667de5a9de47",
   "metadata": {},
   "outputs": [],
   "source": []
  },
  {
   "cell_type": "code",
   "execution_count": null,
   "id": "df700f29-8e00-44a8-84bb-e81a99032e45",
   "metadata": {},
   "outputs": [],
   "source": []
  }
 ],
 "metadata": {
  "kernelspec": {
   "display_name": "Python 3 (ipykernel)",
   "language": "python",
   "name": "python3"
  },
  "language_info": {
   "codemirror_mode": {
    "name": "ipython",
    "version": 3
   },
   "file_extension": ".py",
   "mimetype": "text/x-python",
   "name": "python",
   "nbconvert_exporter": "python",
   "pygments_lexer": "ipython3",
   "version": "3.13.5"
  }
 },
 "nbformat": 4,
 "nbformat_minor": 5
}
